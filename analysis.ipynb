{
 "cells": [
  {
   "cell_type": "code",
   "execution_count": 34,
   "metadata": {},
   "outputs": [],
   "source": [
    "# Official\n",
    "import pandas\n",
    "import copy\n",
    "import numpy\n",
    "from pandas import DataFrame\n",
    "import matplotlib.pyplot as plt\n",
    "from sklearn.model_selection import train_test_split\n",
    "from sklearn.linear_model import LogisticRegression\n",
    "\n",
    "# Custom\n",
    "from utils import modify_space_data"
   ]
  },
  {
   "cell_type": "code",
   "execution_count": 35,
   "metadata": {},
   "outputs": [],
   "source": [
    "# Load training data\n",
    "train_data_path: \"str\" = \"~/Desktop/spaceship_titanic/data/train.csv\"\n",
    "train_data: \"DataFrame\" = pandas.read_csv(train_data_path)\n",
    "\n",
    "# Load test data\n",
    "test_data_path: \"str\" = \"~/Desktop/spaceship_titanic/data/test.csv\"\n",
    "test_data: \"DataFrame\" = pandas.read_csv(test_data_path)"
   ]
  },
  {
   "cell_type": "markdown",
   "metadata": {},
   "source": [
    "## Notes\n",
    "- PassengerId: Must be split into group number and group member\n",
    "- HomePlanet: Is class variable with 3 classes\n",
    "- CryoSleep: Is boolean variable\n",
    "- Cabin: Must be split into three class variables\n",
    "- Age: A numeric variable\n",
    "- VIP: A boolean variable\n",
    "- RoomService: Numeric, predominantly 0\n",
    "- FoodCourt: Numeric, predominantly 0\n",
    "- ShoppingMall: Numeric, predominantly 0\n",
    "- Spa: Numeric, predominantly 0\n",
    "- VRDeck: Numeric, predominantly 0\n",
    "- Name: Purely ID based (Can be used for identifying families)\n",
    "- Transported: Boolean variable"
   ]
  },
  {
   "cell_type": "code",
   "execution_count": 36,
   "metadata": {},
   "outputs": [
    {
     "data": {
      "image/png": "[encoded data removed]",
      "text/plain": [
       "<Figure size 640x480 with 1 Axes>"
      ]
     },
     "metadata": {},
     "output_type": "display_data"
    },
    {
     "data": {
      "text/plain": [
       "True     4378\n",
       "False    4315\n",
       "Name: Transported, dtype: int64"
      ]
     },
     "execution_count": 36,
     "metadata": {},
     "output_type": "execute_result"
    }
   ],
   "source": [
    "# Code for analysing features\n",
    "\n",
    "# For showing number of unique entries\n",
    "train_data.nunique()\n",
    "\n",
    "# For showing histograms of different columns\n",
    "plt.hist(train_data[\"VRDeck\"])\n",
    "plt.show()\n",
    "\n",
    "# For showing the counts of unique values in a column\n",
    "train_data[\"Transported\"].value_counts().sort_values(ascending=False)"
   ]
  },
  {
   "cell_type": "code",
   "execution_count": 42,
   "metadata": {},
   "outputs": [],
   "source": [
    "subject: \"str\" = \"Transported\"\n",
    "\n",
    "edit_data: \"DataFrame\" = modify_space_data(train_data)\n",
    "\n",
    "labels: \"DataFrame\" = copy.deepcopy(edit_data[subject])\n",
    "features: \"DataFrame\" = copy.deepcopy(edit_data.drop([subject], axis=1))\n",
    "\n",
    "validation_size: \"float\" = 0.2\n",
    "random_state: \"int\" = 2\n",
    "\n",
    "train_features, val_features, train_labels, val_labels = train_test_split(features,labels,test_size=validation_size,random_state=random_state)\n",
    "test_features: \"DataFrame\" = modify_space_data(test_data)"
   ]
  },
  {
   "cell_type": "code",
   "execution_count": 47,
   "metadata": {},
   "outputs": [
    {
     "name": "stdout",
     "output_type": "stream",
     "text": [
      "0.80448533640023\n"
     ]
    },
    {
     "data": {
      "text/plain": [
       "array([ True, False,  True, ...,  True,  True,  True])"
      ]
     },
     "execution_count": 47,
     "metadata": {},
     "output_type": "execute_result"
    }
   ],
   "source": [
    "logistic_model: \"LogisticRegression\" = LogisticRegression(penalty=\"l2\", max_iter=10000, random_state=random_state)\n",
    "fitted_model = logistic_model.fit(train_features, train_labels)\n",
    "logistic_accuracy: \"float\" = fitted_model.score(val_features, val_labels)\n",
    "\n",
    "print(logistic_accuracy)\n",
    "\n",
    "fitted_model.predict(test_features)"
   ]
  },
  {
   "cell_type": "code",
   "execution_count": 17,
   "metadata": {},
   "outputs": [],
   "source": [
    "from torch.utils.data import Dataset, DataLoader\n",
    "import torch\n",
    "\n",
    "class SpaceData(Dataset):\n",
    "\n",
    "    def __init__(self, X, y):\n",
    "\n",
    "        X = copy.deepcopy(X).to_numpy(dtype=float)\n",
    "        self.X = torch.tensor(X, dtype=torch.float)\n",
    "\n",
    "        y = copy.deepcopy(y).to_numpy(dtype=float)\n",
    "        self.y = torch.reshape(torch.tensor(y, dtype=torch.float), (-1,1))\n",
    "\n",
    "    def __len__(self):\n",
    "\n",
    "        return len(self.X)\n",
    "\n",
    "    def __getitem__(self, index):\n",
    "        return self.X[index, :], self.y[index]\n",
    "\n",
    "space_train_dataset = SpaceData(X=X_train,y=y_train)\n",
    "space_val_dataset = SpaceData(X=X_val,y=y_val)\n",
    "\n",
    "space_train_dataloader = DataLoader(dataset=space_train_dataset, batch_size=len(space_train_dataset), shuffle=True)\n",
    "space_val_dataloader = DataLoader(dataset=space_val_dataset, batch_size=len(space_val_dataset), shuffle=True)"
   ]
  },
  {
   "cell_type": "markdown",
   "metadata": {},
   "source": [
    "Now's the time to get out the big guns (PyTorch)"
   ]
  },
  {
   "cell_type": "code",
   "execution_count": null,
   "metadata": {},
   "outputs": [],
   "source": [
    "import torch\n",
    "\n",
    "class CustomModel(torch.nn.Module):\n",
    "\n",
    "    def __init__(self):\n",
    "        super().__init__()\n",
    "        self.model = torch.nn.Sequential(\n",
    "            torch.nn.Linear(37, 75),\n",
    "            torch.nn.ReLU(),\n",
    "            torch.nn.Linear(75, 120),\n",
    "            torch.nn.ReLU(),\n",
    "            torch.nn.Linear(120, 1),\n",
    "            torch.nn.Sigmoid()\n",
    "        )\n",
    "\n",
    "    def forward(self, input):\n",
    "        return self.model(input=input)\n",
    "\n",
    "custom_model = CustomModel()\n",
    "\n",
    "loss_model = torch.nn.BCELoss()\n",
    "\n",
    "optimiser = torch.optim.SGD(custom_model.parameters(), lr=10**(-4))"
   ]
  },
  {
   "cell_type": "code",
   "execution_count": 21,
   "metadata": {},
   "outputs": [
    {
     "name": "stdout",
     "output_type": "stream",
     "text": [
      "loss: 4.180818, accuracy: 0.696377  [    1/ 2000]\n",
      "loss: 1.063512, accuracy: 0.764807  [   11/ 2000]\n",
      "loss: 0.997216, accuracy: 0.766532  [   21/ 2000]\n",
      "loss: 0.955438, accuracy: 0.767108  [   31/ 2000]\n",
      "loss: 0.919985, accuracy: 0.766532  [   41/ 2000]\n",
      "loss: 0.889121, accuracy: 0.764807  [   51/ 2000]\n",
      "loss: 0.859227, accuracy: 0.764807  [   61/ 2000]\n",
      "loss: 0.831626, accuracy: 0.763657  [   71/ 2000]\n",
      "loss: 0.805587, accuracy: 0.761932  [   81/ 2000]\n",
      "loss: 0.781367, accuracy: 0.767108  [   91/ 2000]\n",
      "loss: 0.759249, accuracy: 0.765957  [  101/ 2000]\n",
      "loss: 0.739900, accuracy: 0.767683  [  111/ 2000]\n",
      "loss: 0.722851, accuracy: 0.767683  [  121/ 2000]\n",
      "loss: 0.707756, accuracy: 0.767108  [  131/ 2000]\n",
      "loss: 0.694266, accuracy: 0.766532  [  141/ 2000]\n",
      "loss: 0.682261, accuracy: 0.767108  [  151/ 2000]\n",
      "loss: 0.671557, accuracy: 0.767683  [  161/ 2000]\n",
      "loss: 0.662089, accuracy: 0.771133  [  171/ 2000]\n",
      "loss: 0.653978, accuracy: 0.772283  [  181/ 2000]\n",
      "loss: 0.647109, accuracy: 0.771708  [  191/ 2000]\n",
      "loss: 0.641282, accuracy: 0.771708  [  201/ 2000]\n",
      "loss: 0.636259, accuracy: 0.771708  [  211/ 2000]\n",
      "loss: 0.631885, accuracy: 0.770558  [  221/ 2000]\n",
      "loss: 0.628053, accuracy: 0.770558  [  231/ 2000]\n",
      "loss: 0.624667, accuracy: 0.771708  [  241/ 2000]\n",
      "loss: 0.621695, accuracy: 0.771708  [  251/ 2000]\n",
      "loss: 0.619030, accuracy: 0.774008  [  261/ 2000]\n",
      "loss: 0.616569, accuracy: 0.774583  [  271/ 2000]\n",
      "loss: 0.614308, accuracy: 0.774583  [  281/ 2000]\n",
      "loss: 0.612215, accuracy: 0.775733  [  291/ 2000]\n",
      "loss: 0.610258, accuracy: 0.776308  [  301/ 2000]\n",
      "loss: 0.608390, accuracy: 0.776883  [  311/ 2000]\n",
      "loss: 0.606517, accuracy: 0.776883  [  321/ 2000]\n",
      "loss: 0.604716, accuracy: 0.776883  [  331/ 2000]\n",
      "loss: 0.602982, accuracy: 0.777458  [  341/ 2000]\n",
      "loss: 0.601313, accuracy: 0.776883  [  351/ 2000]\n",
      "loss: 0.599728, accuracy: 0.776883  [  361/ 2000]\n",
      "loss: 0.598193, accuracy: 0.776883  [  371/ 2000]\n",
      "loss: 0.596686, accuracy: 0.777458  [  381/ 2000]\n",
      "loss: 0.595218, accuracy: 0.777458  [  391/ 2000]\n",
      "loss: 0.593809, accuracy: 0.776883  [  401/ 2000]\n",
      "loss: 0.592458, accuracy: 0.776883  [  411/ 2000]\n",
      "loss: 0.591147, accuracy: 0.777458  [  421/ 2000]\n",
      "loss: 0.589884, accuracy: 0.777458  [  431/ 2000]\n",
      "loss: 0.588640, accuracy: 0.776883  [  441/ 2000]\n",
      "loss: 0.587413, accuracy: 0.777458  [  451/ 2000]\n",
      "loss: 0.586199, accuracy: 0.777458  [  461/ 2000]\n",
      "loss: 0.584997, accuracy: 0.778033  [  471/ 2000]\n",
      "loss: 0.583826, accuracy: 0.776883  [  481/ 2000]\n",
      "loss: 0.582697, accuracy: 0.776883  [  491/ 2000]\n",
      "loss: 0.581595, accuracy: 0.776883  [  501/ 2000]\n",
      "loss: 0.580535, accuracy: 0.777458  [  511/ 2000]\n",
      "loss: 0.579483, accuracy: 0.776883  [  521/ 2000]\n",
      "loss: 0.578450, accuracy: 0.776883  [  531/ 2000]\n",
      "loss: 0.577434, accuracy: 0.776883  [  541/ 2000]\n",
      "loss: 0.576452, accuracy: 0.778033  [  551/ 2000]\n",
      "loss: 0.575488, accuracy: 0.778033  [  561/ 2000]\n",
      "loss: 0.574533, accuracy: 0.777458  [  571/ 2000]\n",
      "loss: 0.573562, accuracy: 0.777458  [  581/ 2000]\n",
      "loss: 0.572623, accuracy: 0.776883  [  591/ 2000]\n",
      "loss: 0.571692, accuracy: 0.776883  [  601/ 2000]\n",
      "loss: 0.570777, accuracy: 0.777458  [  611/ 2000]\n",
      "loss: 0.569873, accuracy: 0.777458  [  621/ 2000]\n",
      "loss: 0.568958, accuracy: 0.777458  [  631/ 2000]\n",
      "loss: 0.568063, accuracy: 0.777458  [  641/ 2000]\n",
      "loss: 0.567214, accuracy: 0.778033  [  651/ 2000]\n",
      "loss: 0.566411, accuracy: 0.778608  [  661/ 2000]\n",
      "loss: 0.565646, accuracy: 0.778608  [  671/ 2000]\n",
      "loss: 0.564925, accuracy: 0.778608  [  681/ 2000]\n",
      "loss: 0.564218, accuracy: 0.778608  [  691/ 2000]\n",
      "loss: 0.563532, accuracy: 0.778608  [  701/ 2000]\n",
      "loss: 0.562860, accuracy: 0.779183  [  711/ 2000]\n",
      "loss: 0.562198, accuracy: 0.779183  [  721/ 2000]\n",
      "loss: 0.561539, accuracy: 0.779183  [  731/ 2000]\n",
      "loss: 0.560900, accuracy: 0.779183  [  741/ 2000]\n",
      "loss: 0.560278, accuracy: 0.779183  [  751/ 2000]\n",
      "loss: 0.559672, accuracy: 0.779758  [  761/ 2000]\n",
      "loss: 0.559087, accuracy: 0.779758  [  771/ 2000]\n"
     ]
    },
    {
     "ename": "KeyboardInterrupt",
     "evalue": "",
     "output_type": "error",
     "traceback": [
      "\u001b[0;31m---------------------------------------------------------------------------\u001b[0m",
      "\u001b[0;31mKeyboardInterrupt\u001b[0m                         Traceback (most recent call last)",
      "\u001b[1;32m/home/seelmath/Desktop/spaceship_titanic/code/analysis.ipynb Cell 12\u001b[0m in \u001b[0;36m<cell line: 27>\u001b[0;34m()\u001b[0m\n\u001b[1;32m     <a href='vscode-notebook-cell:/home/seelmath/Desktop/spaceship_titanic/code/analysis.ipynb#X14sZmlsZQ%3D%3D?line=25'>26</a>\u001b[0m size \u001b[39m=\u001b[39m \u001b[39m2000\u001b[39m\n\u001b[1;32m     <a href='vscode-notebook-cell:/home/seelmath/Desktop/spaceship_titanic/code/analysis.ipynb#X14sZmlsZQ%3D%3D?line=26'>27</a>\u001b[0m \u001b[39mfor\u001b[39;00m current \u001b[39min\u001b[39;00m \u001b[39mrange\u001b[39m(size):\n\u001b[0;32m---> <a href='vscode-notebook-cell:/home/seelmath/Desktop/spaceship_titanic/code/analysis.ipynb#X14sZmlsZQ%3D%3D?line=28'>29</a>\u001b[0m     train_loss \u001b[39m=\u001b[39m loss_calulation(\n\u001b[1;32m     <a href='vscode-notebook-cell:/home/seelmath/Desktop/spaceship_titanic/code/analysis.ipynb#X14sZmlsZQ%3D%3D?line=29'>30</a>\u001b[0m         dataloader\u001b[39m=\u001b[39;49mspace_train_dataloader,\n\u001b[1;32m     <a href='vscode-notebook-cell:/home/seelmath/Desktop/spaceship_titanic/code/analysis.ipynb#X14sZmlsZQ%3D%3D?line=30'>31</a>\u001b[0m         custom_model\u001b[39m=\u001b[39;49mcustom_model,\n\u001b[1;32m     <a href='vscode-notebook-cell:/home/seelmath/Desktop/spaceship_titanic/code/analysis.ipynb#X14sZmlsZQ%3D%3D?line=31'>32</a>\u001b[0m         loss_model\u001b[39m=\u001b[39;49mloss_model\n\u001b[1;32m     <a href='vscode-notebook-cell:/home/seelmath/Desktop/spaceship_titanic/code/analysis.ipynb#X14sZmlsZQ%3D%3D?line=32'>33</a>\u001b[0m     )\n\u001b[1;32m     <a href='vscode-notebook-cell:/home/seelmath/Desktop/spaceship_titanic/code/analysis.ipynb#X14sZmlsZQ%3D%3D?line=34'>35</a>\u001b[0m     optimise(\n\u001b[1;32m     <a href='vscode-notebook-cell:/home/seelmath/Desktop/spaceship_titanic/code/analysis.ipynb#X14sZmlsZQ%3D%3D?line=35'>36</a>\u001b[0m         optimiser\u001b[39m=\u001b[39moptimiser,\n\u001b[1;32m     <a href='vscode-notebook-cell:/home/seelmath/Desktop/spaceship_titanic/code/analysis.ipynb#X14sZmlsZQ%3D%3D?line=36'>37</a>\u001b[0m         loss\u001b[39m=\u001b[39mtrain_loss\n\u001b[1;32m     <a href='vscode-notebook-cell:/home/seelmath/Desktop/spaceship_titanic/code/analysis.ipynb#X14sZmlsZQ%3D%3D?line=37'>38</a>\u001b[0m     )\n\u001b[1;32m     <a href='vscode-notebook-cell:/home/seelmath/Desktop/spaceship_titanic/code/analysis.ipynb#X14sZmlsZQ%3D%3D?line=39'>40</a>\u001b[0m     val_loss \u001b[39m=\u001b[39m loss_calulation(\n\u001b[1;32m     <a href='vscode-notebook-cell:/home/seelmath/Desktop/spaceship_titanic/code/analysis.ipynb#X14sZmlsZQ%3D%3D?line=40'>41</a>\u001b[0m         dataloader\u001b[39m=\u001b[39mspace_val_dataloader,\n\u001b[1;32m     <a href='vscode-notebook-cell:/home/seelmath/Desktop/spaceship_titanic/code/analysis.ipynb#X14sZmlsZQ%3D%3D?line=41'>42</a>\u001b[0m         custom_model\u001b[39m=\u001b[39mcustom_model,\n\u001b[1;32m     <a href='vscode-notebook-cell:/home/seelmath/Desktop/spaceship_titanic/code/analysis.ipynb#X14sZmlsZQ%3D%3D?line=42'>43</a>\u001b[0m         loss_model\u001b[39m=\u001b[39mloss_model,\n\u001b[1;32m     <a href='vscode-notebook-cell:/home/seelmath/Desktop/spaceship_titanic/code/analysis.ipynb#X14sZmlsZQ%3D%3D?line=43'>44</a>\u001b[0m         no_grad\u001b[39m=\u001b[39m\u001b[39mTrue\u001b[39;00m\n\u001b[1;32m     <a href='vscode-notebook-cell:/home/seelmath/Desktop/spaceship_titanic/code/analysis.ipynb#X14sZmlsZQ%3D%3D?line=44'>45</a>\u001b[0m     )\n",
      "\u001b[1;32m/home/seelmath/Desktop/spaceship_titanic/code/analysis.ipynb Cell 12\u001b[0m in \u001b[0;36mloss_calulation\u001b[0;34m(dataloader, custom_model, loss_model, no_grad)\u001b[0m\n\u001b[1;32m      <a href='vscode-notebook-cell:/home/seelmath/Desktop/spaceship_titanic/code/analysis.ipynb#X14sZmlsZQ%3D%3D?line=0'>1</a>\u001b[0m \u001b[39mdef\u001b[39;00m \u001b[39mloss_calulation\u001b[39m(dataloader, custom_model, loss_model, no_grad\u001b[39m=\u001b[39m\u001b[39mFalse\u001b[39;00m):\n\u001b[0;32m----> <a href='vscode-notebook-cell:/home/seelmath/Desktop/spaceship_titanic/code/analysis.ipynb#X14sZmlsZQ%3D%3D?line=2'>3</a>\u001b[0m     \u001b[39mfor\u001b[39;00m (sample, label) \u001b[39min\u001b[39;00m dataloader:\n\u001b[1;32m      <a href='vscode-notebook-cell:/home/seelmath/Desktop/spaceship_titanic/code/analysis.ipynb#X14sZmlsZQ%3D%3D?line=4'>5</a>\u001b[0m         \u001b[39mif\u001b[39;00m \u001b[39mnot\u001b[39;00m no_grad:\n\u001b[1;32m      <a href='vscode-notebook-cell:/home/seelmath/Desktop/spaceship_titanic/code/analysis.ipynb#X14sZmlsZQ%3D%3D?line=5'>6</a>\u001b[0m             prediction \u001b[39m=\u001b[39m custom_model(sample)\n",
      "File \u001b[0;32m~/miniconda3/envs/spaceship/lib/python3.9/site-packages/torch/utils/data/dataloader.py:681\u001b[0m, in \u001b[0;36m_BaseDataLoaderIter.__next__\u001b[0;34m(self)\u001b[0m\n\u001b[1;32m    678\u001b[0m \u001b[39mif\u001b[39;00m \u001b[39mself\u001b[39m\u001b[39m.\u001b[39m_sampler_iter \u001b[39mis\u001b[39;00m \u001b[39mNone\u001b[39;00m:\n\u001b[1;32m    679\u001b[0m     \u001b[39m# TODO(https://github.com/pytorch/pytorch/issues/76750)\u001b[39;00m\n\u001b[1;32m    680\u001b[0m     \u001b[39mself\u001b[39m\u001b[39m.\u001b[39m_reset()  \u001b[39m# type: ignore[call-arg]\u001b[39;00m\n\u001b[0;32m--> 681\u001b[0m data \u001b[39m=\u001b[39m \u001b[39mself\u001b[39;49m\u001b[39m.\u001b[39;49m_next_data()\n\u001b[1;32m    682\u001b[0m \u001b[39mself\u001b[39m\u001b[39m.\u001b[39m_num_yielded \u001b[39m+\u001b[39m\u001b[39m=\u001b[39m \u001b[39m1\u001b[39m\n\u001b[1;32m    683\u001b[0m \u001b[39mif\u001b[39;00m \u001b[39mself\u001b[39m\u001b[39m.\u001b[39m_dataset_kind \u001b[39m==\u001b[39m _DatasetKind\u001b[39m.\u001b[39mIterable \u001b[39mand\u001b[39;00m \\\n\u001b[1;32m    684\u001b[0m         \u001b[39mself\u001b[39m\u001b[39m.\u001b[39m_IterableDataset_len_called \u001b[39mis\u001b[39;00m \u001b[39mnot\u001b[39;00m \u001b[39mNone\u001b[39;00m \u001b[39mand\u001b[39;00m \\\n\u001b[1;32m    685\u001b[0m         \u001b[39mself\u001b[39m\u001b[39m.\u001b[39m_num_yielded \u001b[39m>\u001b[39m \u001b[39mself\u001b[39m\u001b[39m.\u001b[39m_IterableDataset_len_called:\n",
      "File \u001b[0;32m~/miniconda3/envs/spaceship/lib/python3.9/site-packages/torch/utils/data/dataloader.py:721\u001b[0m, in \u001b[0;36m_SingleProcessDataLoaderIter._next_data\u001b[0;34m(self)\u001b[0m\n\u001b[1;32m    719\u001b[0m \u001b[39mdef\u001b[39;00m \u001b[39m_next_data\u001b[39m(\u001b[39mself\u001b[39m):\n\u001b[1;32m    720\u001b[0m     index \u001b[39m=\u001b[39m \u001b[39mself\u001b[39m\u001b[39m.\u001b[39m_next_index()  \u001b[39m# may raise StopIteration\u001b[39;00m\n\u001b[0;32m--> 721\u001b[0m     data \u001b[39m=\u001b[39m \u001b[39mself\u001b[39;49m\u001b[39m.\u001b[39;49m_dataset_fetcher\u001b[39m.\u001b[39;49mfetch(index)  \u001b[39m# may raise StopIteration\u001b[39;00m\n\u001b[1;32m    722\u001b[0m     \u001b[39mif\u001b[39;00m \u001b[39mself\u001b[39m\u001b[39m.\u001b[39m_pin_memory:\n\u001b[1;32m    723\u001b[0m         data \u001b[39m=\u001b[39m _utils\u001b[39m.\u001b[39mpin_memory\u001b[39m.\u001b[39mpin_memory(data, \u001b[39mself\u001b[39m\u001b[39m.\u001b[39m_pin_memory_device)\n",
      "File \u001b[0;32m~/miniconda3/envs/spaceship/lib/python3.9/site-packages/torch/utils/data/_utils/fetch.py:49\u001b[0m, in \u001b[0;36m_MapDatasetFetcher.fetch\u001b[0;34m(self, possibly_batched_index)\u001b[0m\n\u001b[1;32m     47\u001b[0m \u001b[39mdef\u001b[39;00m \u001b[39mfetch\u001b[39m(\u001b[39mself\u001b[39m, possibly_batched_index):\n\u001b[1;32m     48\u001b[0m     \u001b[39mif\u001b[39;00m \u001b[39mself\u001b[39m\u001b[39m.\u001b[39mauto_collation:\n\u001b[0;32m---> 49\u001b[0m         data \u001b[39m=\u001b[39m [\u001b[39mself\u001b[39m\u001b[39m.\u001b[39mdataset[idx] \u001b[39mfor\u001b[39;00m idx \u001b[39min\u001b[39;00m possibly_batched_index]\n\u001b[1;32m     50\u001b[0m     \u001b[39melse\u001b[39;00m:\n\u001b[1;32m     51\u001b[0m         data \u001b[39m=\u001b[39m \u001b[39mself\u001b[39m\u001b[39m.\u001b[39mdataset[possibly_batched_index]\n",
      "File \u001b[0;32m~/miniconda3/envs/spaceship/lib/python3.9/site-packages/torch/utils/data/_utils/fetch.py:49\u001b[0m, in \u001b[0;36m<listcomp>\u001b[0;34m(.0)\u001b[0m\n\u001b[1;32m     47\u001b[0m \u001b[39mdef\u001b[39;00m \u001b[39mfetch\u001b[39m(\u001b[39mself\u001b[39m, possibly_batched_index):\n\u001b[1;32m     48\u001b[0m     \u001b[39mif\u001b[39;00m \u001b[39mself\u001b[39m\u001b[39m.\u001b[39mauto_collation:\n\u001b[0;32m---> 49\u001b[0m         data \u001b[39m=\u001b[39m [\u001b[39mself\u001b[39;49m\u001b[39m.\u001b[39;49mdataset[idx] \u001b[39mfor\u001b[39;00m idx \u001b[39min\u001b[39;00m possibly_batched_index]\n\u001b[1;32m     50\u001b[0m     \u001b[39melse\u001b[39;00m:\n\u001b[1;32m     51\u001b[0m         data \u001b[39m=\u001b[39m \u001b[39mself\u001b[39m\u001b[39m.\u001b[39mdataset[possibly_batched_index]\n",
      "\u001b[1;32m/home/seelmath/Desktop/spaceship_titanic/code/analysis.ipynb Cell 12\u001b[0m in \u001b[0;36mSpaceData.__getitem__\u001b[0;34m(self, index)\u001b[0m\n\u001b[1;32m     <a href='vscode-notebook-cell:/home/seelmath/Desktop/spaceship_titanic/code/analysis.ipynb#X14sZmlsZQ%3D%3D?line=17'>18</a>\u001b[0m \u001b[39mdef\u001b[39;00m \u001b[39m__getitem__\u001b[39m(\u001b[39mself\u001b[39m, index):\n\u001b[0;32m---> <a href='vscode-notebook-cell:/home/seelmath/Desktop/spaceship_titanic/code/analysis.ipynb#X14sZmlsZQ%3D%3D?line=18'>19</a>\u001b[0m     \u001b[39mreturn\u001b[39;00m \u001b[39mself\u001b[39m\u001b[39m.\u001b[39mX[index, :], \u001b[39mself\u001b[39;49m\u001b[39m.\u001b[39;49my[index]\n",
      "\u001b[0;31mKeyboardInterrupt\u001b[0m: "
     ]
    }
   ],
   "source": [
    "def loss_calulation(dataloader, custom_model, loss_model, no_grad=False):\n",
    "\n",
    "    for (sample, label) in dataloader:\n",
    "\n",
    "        if not no_grad:\n",
    "            prediction = custom_model(sample)\n",
    "            return loss_model(prediction, label)\n",
    "        else:\n",
    "            with torch.no_grad():\n",
    "                prediction = custom_model(sample)\n",
    "                return loss_model(prediction, label)\n",
    "\n",
    "def accuracy_calulation(dataloader, custom_model):\n",
    "\n",
    "    for (sample, label) in dataloader:\n",
    "        with torch.no_grad():\n",
    "            prediction = custom_model(sample)\n",
    "            return (prediction.round() == label).sum() / len(sample)\n",
    "\n",
    "def optimise(optimiser, loss):\n",
    "    optimiser.zero_grad()\n",
    "    loss.backward()\n",
    "    optimiser.step()\n",
    "\n",
    "\n",
    "size = 2000\n",
    "for current in range(size):\n",
    "\n",
    "    train_loss = loss_calulation(\n",
    "        dataloader=space_train_dataloader,\n",
    "        custom_model=custom_model,\n",
    "        loss_model=loss_model\n",
    "    )\n",
    "\n",
    "    optimise(\n",
    "        optimiser=optimiser,\n",
    "        loss=train_loss\n",
    "    )\n",
    "\n",
    "    val_loss = loss_calulation(\n",
    "        dataloader=space_val_dataloader,\n",
    "        custom_model=custom_model,\n",
    "        loss_model=loss_model,\n",
    "        no_grad=True\n",
    "    )\n",
    "\n",
    "    val_acc = accuracy_calulation(\n",
    "        dataloader=space_val_dataloader,\n",
    "        custom_model=custom_model\n",
    "    )\n",
    "\n",
    "    if current % 10 == 0:\n",
    "        print(f\"loss: {val_loss.item():>7f}, accuracy: {val_acc.item():>7f}  [{current+1:>5d}/{size:>5d}]\")"
   ]
  }
 ],
 "metadata": {
  "kernelspec": {
   "display_name": "Python 3.9.13 ('spaceship')",
   "language": "python",
   "name": "python3"
  },
  "language_info": {
   "codemirror_mode": {
    "name": "ipython",
    "version": 3
   },
   "file_extension": ".py",
   "mimetype": "text/x-python",
   "name": "python",
   "nbconvert_exporter": "python",
   "pygments_lexer": "ipython3",
   "version": "3.9.13"
  },
  "orig_nbformat": 4,
  "vscode": {
   "interpreter": {
    "hash": "9aafca8e7821aa7c4959e6bd2d8c2bf1dc692184d1d7338f519742589bf0d665"
   }
  }
 },
 "nbformat": 4,
 "nbformat_minor": 2
}
